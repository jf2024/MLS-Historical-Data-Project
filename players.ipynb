{
 "cells": [
  {
   "cell_type": "code",
   "execution_count": 2,
   "metadata": {},
   "outputs": [],
   "source": [
    "import numpy as np\n",
    "import matplotlib.pyplot as plt\n",
    "import pandas as pd\n",
    "import seaborn as sns\n",
    "pd.set_option('display.min_rows', 500)  \n",
    "pd.set_option('display.max_rows', 500)\n",
    "\n",
    "#got here: https://stackoverflow.com/questions/34398054/ipython-notebook-cell-multiple-outputs\n",
    "from IPython.core.interactiveshell import InteractiveShell\n",
    "InteractiveShell.ast_node_interactivity = \"all\""
   ]
  },
  {
   "cell_type": "code",
   "execution_count": 13,
   "metadata": {},
   "outputs": [
    {
     "data": {
      "text/html": [
       "<div>\n",
       "<style scoped>\n",
       "    .dataframe tbody tr th:only-of-type {\n",
       "        vertical-align: middle;\n",
       "    }\n",
       "\n",
       "    .dataframe tbody tr th {\n",
       "        vertical-align: top;\n",
       "    }\n",
       "\n",
       "    .dataframe thead th {\n",
       "        text-align: right;\n",
       "    }\n",
       "</style>\n",
       "<table border=\"1\" class=\"dataframe\">\n",
       "  <thead>\n",
       "    <tr style=\"text-align: right;\">\n",
       "      <th></th>\n",
       "      <th>Player</th>\n",
       "      <th>Club</th>\n",
       "      <th>POS</th>\n",
       "      <th>GP</th>\n",
       "      <th>GS</th>\n",
       "      <th>MINS</th>\n",
       "      <th>G</th>\n",
       "      <th>A</th>\n",
       "      <th>SHTS</th>\n",
       "      <th>SOG</th>\n",
       "      <th>...</th>\n",
       "      <th>RdA</th>\n",
       "      <th>A/90min</th>\n",
       "      <th>FC</th>\n",
       "      <th>FS</th>\n",
       "      <th>OFF</th>\n",
       "      <th>YC</th>\n",
       "      <th>RC</th>\n",
       "      <th>SOG%</th>\n",
       "      <th>Year</th>\n",
       "      <th>Season</th>\n",
       "    </tr>\n",
       "  </thead>\n",
       "  <tbody>\n",
       "    <tr>\n",
       "      <th>0</th>\n",
       "      <td>Roy Lassiter</td>\n",
       "      <td>TB</td>\n",
       "      <td>F</td>\n",
       "      <td>30</td>\n",
       "      <td>30</td>\n",
       "      <td>2580</td>\n",
       "      <td>27</td>\n",
       "      <td>4</td>\n",
       "      <td>76</td>\n",
       "      <td>49</td>\n",
       "      <td>...</td>\n",
       "      <td>2</td>\n",
       "      <td>0.14</td>\n",
       "      <td>20</td>\n",
       "      <td>39</td>\n",
       "      <td>70</td>\n",
       "      <td>2</td>\n",
       "      <td>0</td>\n",
       "      <td>64.47</td>\n",
       "      <td>1996</td>\n",
       "      <td>reg</td>\n",
       "    </tr>\n",
       "    <tr>\n",
       "      <th>1</th>\n",
       "      <td>Raul Diaz Arce</td>\n",
       "      <td>DC</td>\n",
       "      <td>F</td>\n",
       "      <td>28</td>\n",
       "      <td>28</td>\n",
       "      <td>2351</td>\n",
       "      <td>23</td>\n",
       "      <td>2</td>\n",
       "      <td>100</td>\n",
       "      <td>49</td>\n",
       "      <td>...</td>\n",
       "      <td>2</td>\n",
       "      <td>0.08</td>\n",
       "      <td>32</td>\n",
       "      <td>26</td>\n",
       "      <td>35</td>\n",
       "      <td>6</td>\n",
       "      <td>1</td>\n",
       "      <td>49.00</td>\n",
       "      <td>1996</td>\n",
       "      <td>reg</td>\n",
       "    </tr>\n",
       "    <tr>\n",
       "      <th>2</th>\n",
       "      <td>Eduardo Hurtado</td>\n",
       "      <td>LA</td>\n",
       "      <td>F</td>\n",
       "      <td>26</td>\n",
       "      <td>26</td>\n",
       "      <td>2323</td>\n",
       "      <td>21</td>\n",
       "      <td>7</td>\n",
       "      <td>87</td>\n",
       "      <td>56</td>\n",
       "      <td>...</td>\n",
       "      <td>3</td>\n",
       "      <td>0.27</td>\n",
       "      <td>48</td>\n",
       "      <td>26</td>\n",
       "      <td>25</td>\n",
       "      <td>5</td>\n",
       "      <td>0</td>\n",
       "      <td>64.37</td>\n",
       "      <td>1996</td>\n",
       "      <td>reg</td>\n",
       "    </tr>\n",
       "    <tr>\n",
       "      <th>3</th>\n",
       "      <td>Preki</td>\n",
       "      <td>KC</td>\n",
       "      <td>M</td>\n",
       "      <td>32</td>\n",
       "      <td>32</td>\n",
       "      <td>2880</td>\n",
       "      <td>18</td>\n",
       "      <td>13</td>\n",
       "      <td>140</td>\n",
       "      <td>61</td>\n",
       "      <td>...</td>\n",
       "      <td>4</td>\n",
       "      <td>0.41</td>\n",
       "      <td>26</td>\n",
       "      <td>44</td>\n",
       "      <td>7</td>\n",
       "      <td>3</td>\n",
       "      <td>0</td>\n",
       "      <td>43.57</td>\n",
       "      <td>1996</td>\n",
       "      <td>reg</td>\n",
       "    </tr>\n",
       "    <tr>\n",
       "      <th>4</th>\n",
       "      <td>Brian McBride</td>\n",
       "      <td>CLB</td>\n",
       "      <td>F</td>\n",
       "      <td>28</td>\n",
       "      <td>28</td>\n",
       "      <td>2307</td>\n",
       "      <td>17</td>\n",
       "      <td>3</td>\n",
       "      <td>79</td>\n",
       "      <td>44</td>\n",
       "      <td>...</td>\n",
       "      <td>1</td>\n",
       "      <td>0.12</td>\n",
       "      <td>21</td>\n",
       "      <td>46</td>\n",
       "      <td>10</td>\n",
       "      <td>0</td>\n",
       "      <td>0</td>\n",
       "      <td>55.70</td>\n",
       "      <td>1996</td>\n",
       "      <td>reg</td>\n",
       "    </tr>\n",
       "  </tbody>\n",
       "</table>\n",
       "<p>5 rows × 28 columns</p>\n",
       "</div>"
      ],
      "text/plain": [
       "            Player Club POS  GP  GS  MINS   G   A  SHTS  SOG  ...  RdA  \\\n",
       "0     Roy Lassiter  TB    F  30  30  2580  27   4    76   49  ...    2   \n",
       "1   Raul Diaz Arce  DC    F  28  28  2351  23   2   100   49  ...    2   \n",
       "2  Eduardo Hurtado  LA    F  26  26  2323  21   7    87   56  ...    3   \n",
       "3            Preki  KC    M  32  32  2880  18  13   140   61  ...    4   \n",
       "4    Brian McBride  CLB   F  28  28  2307  17   3    79   44  ...    1   \n",
       "\n",
       "  A/90min  FC  FS  OFF  YC  RC   SOG%  Year  Season  \n",
       "0    0.14  20  39   70   2   0  64.47  1996     reg  \n",
       "1    0.08  32  26   35   6   1  49.00  1996     reg  \n",
       "2    0.27  48  26   25   5   0  64.37  1996     reg  \n",
       "3    0.41  26  44    7   3   0  43.57  1996     reg  \n",
       "4    0.12  21  46   10   0   0  55.70  1996     reg  \n",
       "\n",
       "[5 rows x 28 columns]"
      ]
     },
     "execution_count": 13,
     "metadata": {},
     "output_type": "execute_result"
    },
    {
     "name": "stdout",
     "output_type": "stream",
     "text": [
      "Number of Rows:  15767\n",
      "Number of Columns:  28\n"
     ]
    },
    {
     "data": {
      "text/plain": [
       "Index(['Player', 'Club', 'POS', 'GP', 'GS', 'MINS', 'G', 'A', 'SHTS', 'SOG',\n",
       "       'GWG', 'PKG/A', 'HmG', 'RdG', 'G/90min', 'SC%', 'GWA', 'HmA', 'RdA',\n",
       "       'A/90min', 'FC', 'FS', 'OFF', 'YC', 'RC', 'SOG%', 'Year', 'Season'],\n",
       "      dtype='object')"
      ]
     },
     "execution_count": 13,
     "metadata": {},
     "output_type": "execute_result"
    }
   ],
   "source": [
    "players = pd.read_csv('all_players.csv')\n",
    "\n",
    "players.head()\n",
    "rows = len(players.axes[0])\n",
    "cols = len(players.axes[1])\n",
    "print(\"Number of Rows: \", rows)\n",
    "print(\"Number of Columns: \", cols)\n",
    "players.columns"
   ]
  },
  {
   "cell_type": "code",
   "execution_count": 17,
   "metadata": {},
   "outputs": [
    {
     "data": {
      "text/html": [
       "<div>\n",
       "<style scoped>\n",
       "    .dataframe tbody tr th:only-of-type {\n",
       "        vertical-align: middle;\n",
       "    }\n",
       "\n",
       "    .dataframe tbody tr th {\n",
       "        vertical-align: top;\n",
       "    }\n",
       "\n",
       "    .dataframe thead th {\n",
       "        text-align: right;\n",
       "    }\n",
       "</style>\n",
       "<table border=\"1\" class=\"dataframe\">\n",
       "  <thead>\n",
       "    <tr style=\"text-align: right;\">\n",
       "      <th></th>\n",
       "      <th>Player</th>\n",
       "      <th>Club</th>\n",
       "      <th>POS</th>\n",
       "      <th>GP</th>\n",
       "      <th>GS</th>\n",
       "      <th>MINS</th>\n",
       "      <th>G</th>\n",
       "      <th>A</th>\n",
       "      <th>SHTS</th>\n",
       "      <th>SOG</th>\n",
       "      <th>...</th>\n",
       "      <th>RdA</th>\n",
       "      <th>A/90min</th>\n",
       "      <th>FC</th>\n",
       "      <th>FS</th>\n",
       "      <th>OFF</th>\n",
       "      <th>YC</th>\n",
       "      <th>RC</th>\n",
       "      <th>SOG%</th>\n",
       "      <th>Year</th>\n",
       "      <th>Season</th>\n",
       "    </tr>\n",
       "  </thead>\n",
       "  <tbody>\n",
       "    <tr>\n",
       "      <th>1208</th>\n",
       "      <td>Abdul Thompson Conteh</td>\n",
       "      <td>SJ</td>\n",
       "      <td>F</td>\n",
       "      <td>31</td>\n",
       "      <td>27</td>\n",
       "      <td>2356</td>\n",
       "      <td>8</td>\n",
       "      <td>3</td>\n",
       "      <td>71</td>\n",
       "      <td>41</td>\n",
       "      <td>...</td>\n",
       "      <td>0</td>\n",
       "      <td>0.11</td>\n",
       "      <td>49</td>\n",
       "      <td>64</td>\n",
       "      <td>33</td>\n",
       "      <td>2</td>\n",
       "      <td>0</td>\n",
       "      <td>57.75</td>\n",
       "      <td>2000</td>\n",
       "      <td>reg</td>\n",
       "    </tr>\n",
       "    <tr>\n",
       "      <th>1225</th>\n",
       "      <td>Dario Brose</td>\n",
       "      <td>SJ</td>\n",
       "      <td>M</td>\n",
       "      <td>28</td>\n",
       "      <td>21</td>\n",
       "      <td>2088</td>\n",
       "      <td>5</td>\n",
       "      <td>4</td>\n",
       "      <td>63</td>\n",
       "      <td>27</td>\n",
       "      <td>...</td>\n",
       "      <td>0</td>\n",
       "      <td>0.17</td>\n",
       "      <td>39</td>\n",
       "      <td>35</td>\n",
       "      <td>0</td>\n",
       "      <td>5</td>\n",
       "      <td>0</td>\n",
       "      <td>42.86</td>\n",
       "      <td>2000</td>\n",
       "      <td>reg</td>\n",
       "    </tr>\n",
       "    <tr>\n",
       "      <th>1228</th>\n",
       "      <td>Wojtek Krakowiak</td>\n",
       "      <td>SJ</td>\n",
       "      <td>M</td>\n",
       "      <td>24</td>\n",
       "      <td>11</td>\n",
       "      <td>1282</td>\n",
       "      <td>5</td>\n",
       "      <td>0</td>\n",
       "      <td>21</td>\n",
       "      <td>11</td>\n",
       "      <td>...</td>\n",
       "      <td>0</td>\n",
       "      <td>0.00</td>\n",
       "      <td>37</td>\n",
       "      <td>22</td>\n",
       "      <td>6</td>\n",
       "      <td>4</td>\n",
       "      <td>0</td>\n",
       "      <td>52.38</td>\n",
       "      <td>2000</td>\n",
       "      <td>reg</td>\n",
       "    </tr>\n",
       "    <tr>\n",
       "      <th>1238</th>\n",
       "      <td>John Doyle</td>\n",
       "      <td>SJ</td>\n",
       "      <td>D</td>\n",
       "      <td>20</td>\n",
       "      <td>20</td>\n",
       "      <td>1776</td>\n",
       "      <td>4</td>\n",
       "      <td>2</td>\n",
       "      <td>20</td>\n",
       "      <td>11</td>\n",
       "      <td>...</td>\n",
       "      <td>1</td>\n",
       "      <td>0.10</td>\n",
       "      <td>41</td>\n",
       "      <td>19</td>\n",
       "      <td>5</td>\n",
       "      <td>3</td>\n",
       "      <td>1</td>\n",
       "      <td>55.00</td>\n",
       "      <td>2000</td>\n",
       "      <td>reg</td>\n",
       "    </tr>\n",
       "    <tr>\n",
       "      <th>1240</th>\n",
       "      <td>Ronald Cerritos</td>\n",
       "      <td>SJ</td>\n",
       "      <td>F</td>\n",
       "      <td>9</td>\n",
       "      <td>9</td>\n",
       "      <td>850</td>\n",
       "      <td>4</td>\n",
       "      <td>1</td>\n",
       "      <td>30</td>\n",
       "      <td>16</td>\n",
       "      <td>...</td>\n",
       "      <td>0</td>\n",
       "      <td>0.11</td>\n",
       "      <td>6</td>\n",
       "      <td>11</td>\n",
       "      <td>21</td>\n",
       "      <td>0</td>\n",
       "      <td>0</td>\n",
       "      <td>53.33</td>\n",
       "      <td>2000</td>\n",
       "      <td>reg</td>\n",
       "    </tr>\n",
       "  </tbody>\n",
       "</table>\n",
       "<p>5 rows × 28 columns</p>\n",
       "</div>"
      ],
      "text/plain": [
       "                     Player Club POS  GP  GS  MINS  G  A  SHTS  SOG  ...  RdA  \\\n",
       "1208  Abdul Thompson Conteh  SJ    F  31  27  2356  8  3    71   41  ...    0   \n",
       "1225            Dario Brose  SJ    M  28  21  2088  5  4    63   27  ...    0   \n",
       "1228       Wojtek Krakowiak  SJ    M  24  11  1282  5  0    21   11  ...    0   \n",
       "1238             John Doyle  SJ    D  20  20  1776  4  2    20   11  ...    1   \n",
       "1240        Ronald Cerritos  SJ    F   9   9   850  4  1    30   16  ...    0   \n",
       "\n",
       "     A/90min  FC  FS  OFF  YC  RC   SOG%  Year  Season  \n",
       "1208    0.11  49  64   33   2   0  57.75  2000     reg  \n",
       "1225    0.17  39  35    0   5   0  42.86  2000     reg  \n",
       "1228    0.00  37  22    6   4   0  52.38  2000     reg  \n",
       "1238    0.10  41  19    5   3   1  55.00  2000     reg  \n",
       "1240    0.11   6  11   21   0   0  53.33  2000     reg  \n",
       "\n",
       "[5 rows x 28 columns]"
      ]
     },
     "execution_count": 17,
     "metadata": {},
     "output_type": "execute_result"
    }
   ],
   "source": [
    "players_sj = players[(players['Club'].str.strip() == 'SJ') & (players['Year'] >= 2000) & (players['Season'] == 'reg')]\n",
    "players_sj.head()"
   ]
  },
  {
   "cell_type": "code",
   "execution_count": 21,
   "metadata": {},
   "outputs": [
    {
     "data": {
      "text/plain": [
       "<BarContainer object of 1 artists>"
      ]
     },
     "execution_count": 21,
     "metadata": {},
     "output_type": "execute_result"
    },
    {
     "data": {
      "text/plain": [
       "<BarContainer object of 1 artists>"
      ]
     },
     "execution_count": 21,
     "metadata": {},
     "output_type": "execute_result"
    },
    {
     "data": {
      "text/plain": [
       "<BarContainer object of 1 artists>"
      ]
     },
     "execution_count": 21,
     "metadata": {},
     "output_type": "execute_result"
    },
    {
     "data": {
      "text/plain": [
       "<BarContainer object of 1 artists>"
      ]
     },
     "execution_count": 21,
     "metadata": {},
     "output_type": "execute_result"
    },
    {
     "data": {
      "text/plain": [
       "<BarContainer object of 1 artists>"
      ]
     },
     "execution_count": 21,
     "metadata": {},
     "output_type": "execute_result"
    },
    {
     "data": {
      "text/plain": [
       "<BarContainer object of 1 artists>"
      ]
     },
     "execution_count": 21,
     "metadata": {},
     "output_type": "execute_result"
    },
    {
     "data": {
      "text/plain": [
       "<BarContainer object of 12 artists>"
      ]
     },
     "execution_count": 21,
     "metadata": {},
     "output_type": "execute_result"
    },
    {
     "data": {
      "text/plain": [
       "<BarContainer object of 1 artists>"
      ]
     },
     "execution_count": 21,
     "metadata": {},
     "output_type": "execute_result"
    },
    {
     "data": {
      "text/plain": [
       "<BarContainer object of 1 artists>"
      ]
     },
     "execution_count": 21,
     "metadata": {},
     "output_type": "execute_result"
    },
    {
     "data": {
      "text/plain": [
       "<BarContainer object of 1 artists>"
      ]
     },
     "execution_count": 21,
     "metadata": {},
     "output_type": "execute_result"
    },
    {
     "data": {
      "text/plain": [
       "Text(0.5, 0, 'Season')"
      ]
     },
     "execution_count": 21,
     "metadata": {},
     "output_type": "execute_result"
    },
    {
     "data": {
      "text/plain": [
       "Text(0, 0.5, 'Goals Scored')"
      ]
     },
     "execution_count": 21,
     "metadata": {},
     "output_type": "execute_result"
    },
    {
     "data": {
      "text/plain": [
       "Text(0.5, 1.0, 'Top San Jose Earthquakes Goalscorers by Season (2000+)')"
      ]
     },
     "execution_count": 21,
     "metadata": {},
     "output_type": "execute_result"
    },
    {
     "data": {
      "text/plain": [
       "<matplotlib.legend.Legend at 0x1455b4c3af0>"
      ]
     },
     "execution_count": 21,
     "metadata": {},
     "output_type": "execute_result"
    },
    {
     "data": {
      "text/plain": [
       "(array([1995., 2000., 2005., 2010., 2015., 2020., 2025.]),\n",
       " [Text(1995.0, 0, '1995'),\n",
       "  Text(2000.0, 0, '2000'),\n",
       "  Text(2005.0, 0, '2005'),\n",
       "  Text(2010.0, 0, '2010'),\n",
       "  Text(2015.0, 0, '2015'),\n",
       "  Text(2020.0, 0, '2020'),\n",
       "  Text(2025.0, 0, '2025')])"
      ]
     },
     "execution_count": 21,
     "metadata": {},
     "output_type": "execute_result"
    },
    {
     "data": {
      "image/png": "[encoded data removed]",
      "text/plain": [
       "<Figure size 1200x600 with 1 Axes>"
      ]
     },
     "metadata": {},
     "output_type": "display_data"
    }
   ],
   "source": [
    "players_sj = players[(players['Club'].str.strip() == 'SJ') & (players['Year'] >= 2000) & (players['Season'] == 'reg')]\n",
    "\n",
    "# group by season and select the player with the most goals\n",
    "top_scorers = players_sj.sort_values(['Year', 'G'], ascending=[True, False]).groupby('Year').first().reset_index()\n",
    "\n",
    "# columns i want to plot\n",
    "cols = ['Player', 'Year', 'G']\n",
    "top_scorer_stats = top_scorers[cols]\n",
    "\n",
    "# store players in dictionary, to assign colors for graph\n",
    "player_colors = {player: f'C{i}' for i, player in enumerate(top_scorer_stats['Player'].unique())}\n",
    "\n",
    "fig, ax = plt.subplots(figsize=(12, 6))\n",
    "\n",
    "# plotting here\n",
    "for player, color in player_colors.items():\n",
    "    player_data = top_scorer_stats[top_scorer_stats['Player'] == player]\n",
    "    ax.bar(player_data['Year'], player_data['G'], color=color, label=player)\n",
    "\n",
    "ax.set_xlabel('Season')\n",
    "ax.set_ylabel('Goals Scored')\n",
    "ax.set_title('Top San Jose Earthquakes Goalscorers by Season (2000+)')\n",
    "ax.legend()\n",
    "\n",
    "# Rotate the x-axis labels for better readability\n",
    "plt.xticks(rotation=90)\n",
    "# Adjust spacing and show the plot\n",
    "plt.subplots_adjust(bottom=0.2)\n",
    "plt.show()"
   ]
  }
 ],
 "metadata": {
  "kernelspec": {
   "display_name": "Python 3",
   "language": "python",
   "name": "python3"
  },
  "language_info": {
   "codemirror_mode": {
    "name": "ipython",
    "version": 3
   },
   "file_extension": ".py",
   "mimetype": "text/x-python",
   "name": "python",
   "nbconvert_exporter": "python",
   "pygments_lexer": "ipython3",
   "version": "3.10.5"
  }
 },
 "nbformat": 4,
 "nbformat_minor": 2
}
